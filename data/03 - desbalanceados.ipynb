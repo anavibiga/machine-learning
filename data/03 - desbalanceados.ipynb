{
 "cells": [
  {
   "cell_type": "markdown",
   "metadata": {},
   "source": [
    "# Questão 3 - Desbalanceamento de Bases"
   ]
  },
  {
   "cell_type": "markdown",
   "metadata": {},
   "source": [
    "5 arquivos no formato Pickle: A602.pickle, A621.pickle, A627.pickle, A636.pickle, A652.pickle;\n",
    "\n",
    "Cada um desses arquivos contém conjuntos de treino, validação e testes;\n",
    "\n",
    "São dados de problema de classificação binária altamente desbalanceados;\n",
    "\n",
    "Na matriz y_* é necessário transformar os dados em binários: tudo que for diferente de 0 deve virar 1;\n",
    "\n",
    "É preciso usar o Gradient Boosting Classifier (e não o Regressor)."
   ]
  },
  {
   "cell_type": "code",
   "execution_count": 176,
   "metadata": {},
   "outputs": [
    {
     "data": {
      "text/plain": [
       "'import numpy as np\\nimport pickle\\nfile = open(outfilename , \\'rb\\')\\n(X_train , y_train , X_val , y_val , X_test , y_test) = pickle.load(file)\\nprint(f\"Shapes: \", X_train.shape , X_val.shape , X_test.shape)'"
      ]
     },
     "execution_count": 176,
     "metadata": {},
     "output_type": "execute_result"
    }
   ],
   "source": [
    "'''import numpy as np\n",
    "import pickle\n",
    "file = open(outfilename , 'rb')\n",
    "(X_train , y_train , X_val , y_val , X_test , y_test) = pickle.load(file)\n",
    "print(f\"Shapes: \", X_train.shape , X_val.shape , X_test.shape)'''\n",
    "\n",
    "#  Nesse trecho de código, outfilename é o nome de um dos cinco arquivo fornecidos."
   ]
  },
  {
   "cell_type": "markdown",
   "metadata": {},
   "source": [
    "**Importing Necessary Packages**"
   ]
  },
  {
   "cell_type": "code",
   "execution_count": 177,
   "metadata": {},
   "outputs": [],
   "source": [
    "import numpy as np\n",
    "import pandas as pd\n",
    "import seaborn as sns\n",
    "import matplotlib as mpl\n",
    "import matplotlib.pyplot as plt\n",
    "import sklearn\n",
    "import pickle"
   ]
  },
  {
   "cell_type": "markdown",
   "metadata": {},
   "source": [
    "**Creating the DataFrame**"
   ]
  },
  {
   "cell_type": "code",
   "execution_count": 178,
   "metadata": {},
   "outputs": [
    {
     "name": "stdout",
     "output_type": "stream",
     "text": [
      "Shapes:  (10178, 24) (2565, 24) (765, 24)\n"
     ]
    }
   ],
   "source": [
    "# A602.pickle\n",
    "\n",
    "file_1 = open('.\\data\\A602.pickle', 'rb')\n",
    "(X_train_1 , y_train_1 , X_val_1 , y_val_1 , X_test_1 , y_test_1) = pickle.load(file_1)\n",
    "\n",
    "# Criando os DataFrames\n",
    "df_X_train_1 = pd.DataFrame(X_train_1)\n",
    "df_y_train_1 = pd.DataFrame(y_train_1)\n",
    "df_X_val_1 = pd.DataFrame(X_val_1)\n",
    "df_y_val_1 = pd.DataFrame(y_val_1)\n",
    "df_X_test_1 = pd.DataFrame(X_test_1)\n",
    "df_y_test_1 = pd.DataFrame(y_test_1)\n",
    "\n",
    "print(f'Shapes: ', df_X_train_1.shape , df_X_val_1.shape , df_X_test_1.shape)"
   ]
  },
  {
   "cell_type": "code",
   "execution_count": 179,
   "metadata": {},
   "outputs": [
    {
     "name": "stdout",
     "output_type": "stream",
     "text": [
      "Shapes:  (9549, 24) (2428, 24) (10080, 24)\n"
     ]
    }
   ],
   "source": [
    "# A621.pickle\n",
    "\n",
    "file_2 = open('.\\data\\A621.pickle', 'rb')\n",
    "(X_train_2 , y_train_2 , X_val_2 , y_val_2 , X_test_2 , y_test_2) = pickle.load(file_2)\n",
    "\n",
    "# Criando os DataFrames\n",
    "df_X_train_2 = pd.DataFrame(X_train_2)\n",
    "df_y_train_2 = pd.DataFrame(y_train_2)\n",
    "df_X_val_2 = pd.DataFrame(X_val_2)\n",
    "df_y_val_2 = pd.DataFrame(y_val_2)\n",
    "df_X_test_2 = pd.DataFrame(X_test_2)\n",
    "df_y_test_2 = pd.DataFrame(y_test_2)\n",
    "\n",
    "print(f'Shapes: ', df_X_train_2.shape , df_X_val_2.shape , df_X_test_2.shape)"
   ]
  },
  {
   "cell_type": "code",
   "execution_count": 180,
   "metadata": {},
   "outputs": [
    {
     "name": "stdout",
     "output_type": "stream",
     "text": [
      "Shapes:  (9682, 24) (2235, 24) (10202, 24)\n"
     ]
    }
   ],
   "source": [
    "# A627.pickle\n",
    "\n",
    "file_3 = open('.\\data\\A627.pickle', 'rb')\n",
    "(X_train_3 , y_train_3 , X_val_3 , y_val_3 , X_test_3 , y_test_3) = pickle.load(file_3)\n",
    "\n",
    "# Criando os DataFrames\n",
    "df_X_train_3 = pd.DataFrame(X_train_3)\n",
    "df_y_train_3 = pd.DataFrame(y_train_3)\n",
    "df_X_val_3 = pd.DataFrame(X_val_3)\n",
    "df_y_val_3 = pd.DataFrame(y_val_3)\n",
    "df_X_test_3 = pd.DataFrame(X_test_3)\n",
    "df_y_test_3 = pd.DataFrame(y_test_3)\n",
    "\n",
    "print(f'Shapes: ', df_X_train_3.shape , df_X_val_3.shape , df_X_test_3.shape)"
   ]
  },
  {
   "cell_type": "code",
   "execution_count": 181,
   "metadata": {},
   "outputs": [
    {
     "name": "stdout",
     "output_type": "stream",
     "text": [
      "Shapes:  (10219, 24) (2414, 24) (10129, 24)\n"
     ]
    }
   ],
   "source": [
    "# A636.pickle\n",
    "\n",
    "file_4 = open('.\\data\\A636.pickle', 'rb')\n",
    "(X_train_4 , y_train_4 , X_val_4 , y_val_4 , X_test_4 , y_test_4) = pickle.load(file_4)\n",
    "\n",
    "# Criando os DataFrames\n",
    "df_X_train_4 = pd.DataFrame(X_train_4)\n",
    "df_y_train_4 = pd.DataFrame(y_train_4)\n",
    "df_X_val_4 = pd.DataFrame(X_val_4)\n",
    "df_y_val_4 = pd.DataFrame(y_val_4)\n",
    "df_X_test_4 = pd.DataFrame(X_test_4)\n",
    "df_y_test_4 = pd.DataFrame(y_test_4)\n",
    "\n",
    "print(f'Shapes: ', df_X_train_4.shape , df_X_val_4.shape , df_X_test_4.shape)"
   ]
  },
  {
   "cell_type": "code",
   "execution_count": 182,
   "metadata": {},
   "outputs": [
    {
     "name": "stdout",
     "output_type": "stream",
     "text": [
      "Shapes:  (10012, 24) (2506, 24) (9582, 24)\n"
     ]
    }
   ],
   "source": [
    "# A652.pickle\n",
    "\n",
    "file_5 = open('.\\data\\A652.pickle', 'rb')\n",
    "(X_train_5 , y_train_5 , X_val_5 , y_val_5 , X_test_5 , y_test_5) = pickle.load(file_5)\n",
    "\n",
    "# Criando os DataFrames\n",
    "df_X_train_5 = pd.DataFrame(X_train_5)\n",
    "df_y_train_5 = pd.DataFrame(y_train_5)\n",
    "df_X_val_5 = pd.DataFrame(X_val_5)\n",
    "df_y_val_5 = pd.DataFrame(y_val_5)\n",
    "df_X_test_5 = pd.DataFrame(X_test_5)\n",
    "df_y_test_5 = pd.DataFrame(y_test_5)\n",
    "\n",
    "print(f'Shapes: ', df_X_train_5.shape , df_X_val_5.shape , df_X_test_5.shape)"
   ]
  },
  {
   "cell_type": "markdown",
   "metadata": {},
   "source": [
    "**Data Processing**"
   ]
  },
  {
   "cell_type": "markdown",
   "metadata": {},
   "source": [
    "*Dados Binários nas Matrizes Y*"
   ]
  },
  {
   "cell_type": "code",
   "execution_count": 183,
   "metadata": {},
   "outputs": [],
   "source": [
    "# Lista de sufixos dos DataFrames\n",
    "sufixos = [1, 2, 3, 4, 5]\n",
    "\n",
    "# Função para transformar valores diferentes de zero em 1\n",
    "def transform_to_binary(value):\n",
    "    if value != 0:\n",
    "        return 1\n",
    "    else:\n",
    "        return 0"
   ]
  },
  {
   "cell_type": "code",
   "execution_count": 184,
   "metadata": {},
   "outputs": [],
   "source": [
    "# Tratando y_train\n",
    "\n",
    "for sufixo in sufixos:\n",
    "    nome_df_train = 'df_y_train_{}'.format(sufixo) # Montando o nome do DataFrame (sufixos)\n",
    "    df_train = locals()[nome_df_train]\n",
    "    df_train = df_train.map(transform_to_binary) # Aplicando a função ao DataFrame\n",
    "    locals()[nome_df_train] = df_train # Atualizando o DataFrame original com os resultados"
   ]
  },
  {
   "cell_type": "code",
   "execution_count": 185,
   "metadata": {},
   "outputs": [
    {
     "data": {
      "text/html": [
       "<div>\n",
       "<style scoped>\n",
       "    .dataframe tbody tr th:only-of-type {\n",
       "        vertical-align: middle;\n",
       "    }\n",
       "\n",
       "    .dataframe tbody tr th {\n",
       "        vertical-align: top;\n",
       "    }\n",
       "\n",
       "    .dataframe thead th {\n",
       "        text-align: right;\n",
       "    }\n",
       "</style>\n",
       "<table border=\"1\" class=\"dataframe\">\n",
       "  <thead>\n",
       "    <tr style=\"text-align: right;\">\n",
       "      <th></th>\n",
       "      <th>0</th>\n",
       "    </tr>\n",
       "  </thead>\n",
       "  <tbody>\n",
       "    <tr>\n",
       "      <th>count</th>\n",
       "      <td>9549.000000</td>\n",
       "    </tr>\n",
       "    <tr>\n",
       "      <th>mean</th>\n",
       "      <td>0.079904</td>\n",
       "    </tr>\n",
       "    <tr>\n",
       "      <th>std</th>\n",
       "      <td>0.271158</td>\n",
       "    </tr>\n",
       "    <tr>\n",
       "      <th>min</th>\n",
       "      <td>0.000000</td>\n",
       "    </tr>\n",
       "    <tr>\n",
       "      <th>25%</th>\n",
       "      <td>0.000000</td>\n",
       "    </tr>\n",
       "    <tr>\n",
       "      <th>50%</th>\n",
       "      <td>0.000000</td>\n",
       "    </tr>\n",
       "    <tr>\n",
       "      <th>75%</th>\n",
       "      <td>0.000000</td>\n",
       "    </tr>\n",
       "    <tr>\n",
       "      <th>max</th>\n",
       "      <td>1.000000</td>\n",
       "    </tr>\n",
       "  </tbody>\n",
       "</table>\n",
       "</div>"
      ],
      "text/plain": [
       "                 0\n",
       "count  9549.000000\n",
       "mean      0.079904\n",
       "std       0.271158\n",
       "min       0.000000\n",
       "25%       0.000000\n",
       "50%       0.000000\n",
       "75%       0.000000\n",
       "max       1.000000"
      ]
     },
     "execution_count": 185,
     "metadata": {},
     "output_type": "execute_result"
    }
   ],
   "source": [
    "# Mostrando que os dados se tornaram binários\n",
    "df_y_train_2.describe()"
   ]
  },
  {
   "cell_type": "code",
   "execution_count": 186,
   "metadata": {},
   "outputs": [],
   "source": [
    "# Tratando y_val\n",
    "\n",
    "for sufixo in sufixos:\n",
    "    nome_df_val = 'df_y_val_{}'.format(sufixo) # Montando o nome do DataFrame (sufixos)\n",
    "    df_val = locals()[nome_df_val]\n",
    "    df_val = df_val.map(transform_to_binary) # Aplicando a função ao DataFrame\n",
    "    locals()[nome_df_val] = df_val # Atualizando o DataFrame original com os resultados"
   ]
  },
  {
   "cell_type": "code",
   "execution_count": 187,
   "metadata": {},
   "outputs": [
    {
     "data": {
      "text/html": [
       "<div>\n",
       "<style scoped>\n",
       "    .dataframe tbody tr th:only-of-type {\n",
       "        vertical-align: middle;\n",
       "    }\n",
       "\n",
       "    .dataframe tbody tr th {\n",
       "        vertical-align: top;\n",
       "    }\n",
       "\n",
       "    .dataframe thead th {\n",
       "        text-align: right;\n",
       "    }\n",
       "</style>\n",
       "<table border=\"1\" class=\"dataframe\">\n",
       "  <thead>\n",
       "    <tr style=\"text-align: right;\">\n",
       "      <th></th>\n",
       "      <th>0</th>\n",
       "    </tr>\n",
       "  </thead>\n",
       "  <tbody>\n",
       "    <tr>\n",
       "      <th>count</th>\n",
       "      <td>2414.000000</td>\n",
       "    </tr>\n",
       "    <tr>\n",
       "      <th>mean</th>\n",
       "      <td>0.109776</td>\n",
       "    </tr>\n",
       "    <tr>\n",
       "      <th>std</th>\n",
       "      <td>0.312675</td>\n",
       "    </tr>\n",
       "    <tr>\n",
       "      <th>min</th>\n",
       "      <td>0.000000</td>\n",
       "    </tr>\n",
       "    <tr>\n",
       "      <th>25%</th>\n",
       "      <td>0.000000</td>\n",
       "    </tr>\n",
       "    <tr>\n",
       "      <th>50%</th>\n",
       "      <td>0.000000</td>\n",
       "    </tr>\n",
       "    <tr>\n",
       "      <th>75%</th>\n",
       "      <td>0.000000</td>\n",
       "    </tr>\n",
       "    <tr>\n",
       "      <th>max</th>\n",
       "      <td>1.000000</td>\n",
       "    </tr>\n",
       "  </tbody>\n",
       "</table>\n",
       "</div>"
      ],
      "text/plain": [
       "                 0\n",
       "count  2414.000000\n",
       "mean      0.109776\n",
       "std       0.312675\n",
       "min       0.000000\n",
       "25%       0.000000\n",
       "50%       0.000000\n",
       "75%       0.000000\n",
       "max       1.000000"
      ]
     },
     "execution_count": 187,
     "metadata": {},
     "output_type": "execute_result"
    }
   ],
   "source": [
    "# Mostrando que os dados se tornaram binários\n",
    "df_y_val_4.describe()"
   ]
  },
  {
   "cell_type": "code",
   "execution_count": 188,
   "metadata": {},
   "outputs": [],
   "source": [
    "# Tratando y_test\n",
    "\n",
    "for sufixo in sufixos:\n",
    "    nome_df_test = 'df_y_test_{}'.format(sufixo) # Montando o nome do DataFrame (sufixos)\n",
    "    df_test = locals()[nome_df_test]\n",
    "    df_test = df_test.map(transform_to_binary) # Aplicando a função ao DataFrame\n",
    "    locals()[nome_df_test] = df_test # Atualizando o DataFrame original com os resultados"
   ]
  },
  {
   "cell_type": "code",
   "execution_count": 189,
   "metadata": {},
   "outputs": [
    {
     "data": {
      "text/html": [
       "<div>\n",
       "<style scoped>\n",
       "    .dataframe tbody tr th:only-of-type {\n",
       "        vertical-align: middle;\n",
       "    }\n",
       "\n",
       "    .dataframe tbody tr th {\n",
       "        vertical-align: top;\n",
       "    }\n",
       "\n",
       "    .dataframe thead th {\n",
       "        text-align: right;\n",
       "    }\n",
       "</style>\n",
       "<table border=\"1\" class=\"dataframe\">\n",
       "  <thead>\n",
       "    <tr style=\"text-align: right;\">\n",
       "      <th></th>\n",
       "      <th>0</th>\n",
       "    </tr>\n",
       "  </thead>\n",
       "  <tbody>\n",
       "    <tr>\n",
       "      <th>count</th>\n",
       "      <td>765.000000</td>\n",
       "    </tr>\n",
       "    <tr>\n",
       "      <th>mean</th>\n",
       "      <td>0.120261</td>\n",
       "    </tr>\n",
       "    <tr>\n",
       "      <th>std</th>\n",
       "      <td>0.325480</td>\n",
       "    </tr>\n",
       "    <tr>\n",
       "      <th>min</th>\n",
       "      <td>0.000000</td>\n",
       "    </tr>\n",
       "    <tr>\n",
       "      <th>25%</th>\n",
       "      <td>0.000000</td>\n",
       "    </tr>\n",
       "    <tr>\n",
       "      <th>50%</th>\n",
       "      <td>0.000000</td>\n",
       "    </tr>\n",
       "    <tr>\n",
       "      <th>75%</th>\n",
       "      <td>0.000000</td>\n",
       "    </tr>\n",
       "    <tr>\n",
       "      <th>max</th>\n",
       "      <td>1.000000</td>\n",
       "    </tr>\n",
       "  </tbody>\n",
       "</table>\n",
       "</div>"
      ],
      "text/plain": [
       "                0\n",
       "count  765.000000\n",
       "mean     0.120261\n",
       "std      0.325480\n",
       "min      0.000000\n",
       "25%      0.000000\n",
       "50%      0.000000\n",
       "75%      0.000000\n",
       "max      1.000000"
      ]
     },
     "execution_count": 189,
     "metadata": {},
     "output_type": "execute_result"
    }
   ],
   "source": [
    "# Mostrando que os dados se tornaram binários\n",
    "df_y_test_1.describe()"
   ]
  },
  {
   "cell_type": "code",
   "execution_count": 190,
   "metadata": {},
   "outputs": [
    {
     "name": "stdout",
     "output_type": "stream",
     "text": [
      "0    673\n",
      "1     92\n",
      "Name: count, dtype: int64\n",
      "Proporção de 1: 12.03%\n"
     ]
    }
   ],
   "source": [
    "# Checando se as classes estão balanceadas\n",
    "\n",
    "class_counts = df_y_test_1.value_counts()\n",
    "print(class_counts)\n",
    "\n",
    "# Para calcular a proporção de 1s em relação ao total\n",
    "proporcao_classe_1 = class_counts[1] / len(df_y_test_1) * 100\n",
    "print('Proporção de 1: {:.2f}%'.format(proporcao_classe_1))"
   ]
  },
  {
   "cell_type": "markdown",
   "metadata": {},
   "source": [
    "**Building Models - Imbalanced**"
   ]
  },
  {
   "cell_type": "markdown",
   "metadata": {},
   "source": [
    "*Gradient Boosting Classifier*"
   ]
  },
  {
   "cell_type": "code",
   "execution_count": 191,
   "metadata": {},
   "outputs": [],
   "source": [
    "# Gradient Boosting Classifier\n",
    "\n",
    "from sklearn.ensemble import GradientBoostingClassifier\n",
    "from sklearn.metrics import confusion_matrix, classification_report"
   ]
  },
  {
   "cell_type": "code",
   "execution_count": 192,
   "metadata": {},
   "outputs": [],
   "source": [
    "# Calculando a matriz de confusão por percentuais\n",
    "def matrix (df_y_test, y_pred):\n",
    "    matriz_confusao = confusion_matrix(df_y_test, y_pred)\n",
    "    total_amostras = len(df_y_test)\n",
    "    matriz_percentual = (matriz_confusao / total_amostras) * 100  # Dividindo pelo total e multiplicando por 100\n",
    "    print('\\nGradient Boost - Resultados\\n')\n",
    "    print('\\nRelatório de Classificação\\n')\n",
    "    print(classification_report(df_y_test, y_pred))\n",
    "    print('\\nMatriz de Confusão\\n')\n",
    "    plt.figure(figsize=(8, 6))\n",
    "    sns.heatmap(matriz_percentual, annot = True, fmt = '.2f', cmap = 'Greens')\n",
    "    plt.xlabel('Predicted Labels')\n",
    "    plt.ylabel('True Labels')\n",
    "    plt.title('Matriz de Confusão (Percentual do Total) - Gradient Boost')\n",
    "    plt.show()"
   ]
  },
  {
   "cell_type": "markdown",
   "metadata": {},
   "source": [
    "*File 1*"
   ]
  },
  {
   "cell_type": "code",
   "execution_count": 193,
   "metadata": {},
   "outputs": [
    {
     "name": "stderr",
     "output_type": "stream",
     "text": [
      "C:\\Users\\arau012\\AppData\\Local\\Packages\\PythonSoftwareFoundation.Python.3.9_qbz5n2kfra8p0\\LocalCache\\local-packages\\Python39\\site-packages\\sklearn\\ensemble\\_gb.py:424: DataConversionWarning: A column-vector y was passed when a 1d array was expected. Please change the shape of y to (n_samples, ), for example using ravel().\n",
      "  y = column_or_1d(y, warn=True)\n"
     ]
    },
    {
     "name": "stdout",
     "output_type": "stream",
     "text": [
      "\n",
      "Gradient Boost - Resultados\n",
      "\n",
      "\n",
      "Relatório de Classificação\n",
      "\n",
      "              precision    recall  f1-score   support\n",
      "\n",
      "           0       0.94      0.90      0.92       673\n",
      "           1       0.46      0.61      0.53        92\n",
      "\n",
      "    accuracy                           0.87       765\n",
      "   macro avg       0.70      0.76      0.72       765\n",
      "weighted avg       0.89      0.87      0.88       765\n",
      "\n",
      "\n",
      "Matriz de Confusão\n",
      "\n"
     ]
    },
    {
     "data": {
      "image/png": "[encoded data removed]",
      "text/plain": [
       "<Figure size 800x600 with 2 Axes>"
      ]
     },
     "metadata": {},
     "output_type": "display_data"
    }
   ],
   "source": [
    "# File 1 - Gradient Boosting\n",
    "\n",
    "GB1 = GradientBoostingClassifier()\n",
    "GB1.fit(df_X_train_1, df_y_train_1)\n",
    "\n",
    "y_pred_gb1 = GB1.predict(df_X_test_1)\n",
    "\n",
    "matrix(df_y_test_1,y_pred_gb1)"
   ]
  },
  {
   "cell_type": "markdown",
   "metadata": {},
   "source": [
    "*File 2*"
   ]
  },
  {
   "cell_type": "code",
   "execution_count": 194,
   "metadata": {},
   "outputs": [
    {
     "name": "stderr",
     "output_type": "stream",
     "text": [
      "C:\\Users\\arau012\\AppData\\Local\\Packages\\PythonSoftwareFoundation.Python.3.9_qbz5n2kfra8p0\\LocalCache\\local-packages\\Python39\\site-packages\\sklearn\\ensemble\\_gb.py:424: DataConversionWarning: A column-vector y was passed when a 1d array was expected. Please change the shape of y to (n_samples, ), for example using ravel().\n",
      "  y = column_or_1d(y, warn=True)\n"
     ]
    },
    {
     "name": "stdout",
     "output_type": "stream",
     "text": [
      "\n",
      "Gradient Boost - Resultados\n",
      "\n",
      "\n",
      "Relatório de Classificação\n",
      "\n",
      "              precision    recall  f1-score   support\n",
      "\n",
      "           0       0.96      0.96      0.96      9147\n",
      "           1       0.61      0.56      0.58       933\n",
      "\n",
      "    accuracy                           0.93     10080\n",
      "   macro avg       0.78      0.76      0.77     10080\n",
      "weighted avg       0.92      0.93      0.92     10080\n",
      "\n",
      "\n",
      "Matriz de Confusão\n",
      "\n"
     ]
    },
    {
     "data": {
      "image/png": "[encoded data removed]",
      "text/plain": [
       "<Figure size 800x600 with 2 Axes>"
      ]
     },
     "metadata": {},
     "output_type": "display_data"
    }
   ],
   "source": [
    "# File 2 - Gradient Boosting\n",
    "\n",
    "GB2 = GradientBoostingClassifier()\n",
    "GB2.fit(df_X_train_2, df_y_train_2)\n",
    "\n",
    "y_pred_gb2 = GB2.predict(df_X_test_2)\n",
    "\n",
    "matrix(df_y_test_2,y_pred_gb2)\n"
   ]
  },
  {
   "cell_type": "markdown",
   "metadata": {},
   "source": [
    "*File 3*"
   ]
  },
  {
   "cell_type": "code",
   "execution_count": 195,
   "metadata": {},
   "outputs": [
    {
     "name": "stderr",
     "output_type": "stream",
     "text": [
      "C:\\Users\\arau012\\AppData\\Local\\Packages\\PythonSoftwareFoundation.Python.3.9_qbz5n2kfra8p0\\LocalCache\\local-packages\\Python39\\site-packages\\sklearn\\ensemble\\_gb.py:424: DataConversionWarning: A column-vector y was passed when a 1d array was expected. Please change the shape of y to (n_samples, ), for example using ravel().\n",
      "  y = column_or_1d(y, warn=True)\n"
     ]
    },
    {
     "name": "stdout",
     "output_type": "stream",
     "text": [
      "\n",
      "Gradient Boost - Resultados\n",
      "\n",
      "\n",
      "Relatório de Classificação\n",
      "\n",
      "              precision    recall  f1-score   support\n",
      "\n",
      "           0       0.95      0.97      0.96      9200\n",
      "           1       0.68      0.57      0.62      1002\n",
      "\n",
      "    accuracy                           0.93     10202\n",
      "   macro avg       0.82      0.77      0.79     10202\n",
      "weighted avg       0.93      0.93      0.93     10202\n",
      "\n",
      "\n",
      "Matriz de Confusão\n",
      "\n"
     ]
    },
    {
     "data": {
      "image/png": "[encoded data removed]",
      "text/plain": [
       "<Figure size 800x600 with 2 Axes>"
      ]
     },
     "metadata": {},
     "output_type": "display_data"
    }
   ],
   "source": [
    "# File 3 - Gradient Boosting\n",
    "\n",
    "GB3 = GradientBoostingClassifier()\n",
    "GB3.fit(df_X_train_3, df_y_train_3)\n",
    "\n",
    "y_pred_gb3 = GB3.predict(df_X_test_3)\n",
    "\n",
    "matrix(df_y_test_3,y_pred_gb3)\n"
   ]
  },
  {
   "cell_type": "markdown",
   "metadata": {},
   "source": [
    "*File 4*"
   ]
  },
  {
   "cell_type": "code",
   "execution_count": 196,
   "metadata": {},
   "outputs": [
    {
     "name": "stderr",
     "output_type": "stream",
     "text": [
      "C:\\Users\\arau012\\AppData\\Local\\Packages\\PythonSoftwareFoundation.Python.3.9_qbz5n2kfra8p0\\LocalCache\\local-packages\\Python39\\site-packages\\sklearn\\ensemble\\_gb.py:424: DataConversionWarning: A column-vector y was passed when a 1d array was expected. Please change the shape of y to (n_samples, ), for example using ravel().\n",
      "  y = column_or_1d(y, warn=True)\n"
     ]
    },
    {
     "name": "stdout",
     "output_type": "stream",
     "text": [
      "\n",
      "Gradient Boost - Resultados\n",
      "\n",
      "\n",
      "Relatório de Classificação\n",
      "\n",
      "              precision    recall  f1-score   support\n",
      "\n",
      "           0       0.95      0.97      0.96      9017\n",
      "           1       0.68      0.57      0.62      1112\n",
      "\n",
      "    accuracy                           0.92     10129\n",
      "   macro avg       0.81      0.77      0.79     10129\n",
      "weighted avg       0.92      0.92      0.92     10129\n",
      "\n",
      "\n",
      "Matriz de Confusão\n",
      "\n"
     ]
    },
    {
     "data": {
      "image/png": "[encoded data removed]",
      "text/plain": [
       "<Figure size 800x600 with 2 Axes>"
      ]
     },
     "metadata": {},
     "output_type": "display_data"
    }
   ],
   "source": [
    "# File 4 - Gradient Boosting\n",
    "\n",
    "GB4 = GradientBoostingClassifier()\n",
    "GB4.fit(df_X_train_4, df_y_train_4)\n",
    "\n",
    "y_pred_gb4 = GB4.predict(df_X_test_4)\n",
    "\n",
    "matrix(df_y_test_4,y_pred_gb4)"
   ]
  },
  {
   "cell_type": "markdown",
   "metadata": {},
   "source": [
    "*File 5*"
   ]
  },
  {
   "cell_type": "code",
   "execution_count": 197,
   "metadata": {},
   "outputs": [
    {
     "name": "stderr",
     "output_type": "stream",
     "text": [
      "C:\\Users\\arau012\\AppData\\Local\\Packages\\PythonSoftwareFoundation.Python.3.9_qbz5n2kfra8p0\\LocalCache\\local-packages\\Python39\\site-packages\\sklearn\\ensemble\\_gb.py:424: DataConversionWarning: A column-vector y was passed when a 1d array was expected. Please change the shape of y to (n_samples, ), for example using ravel().\n",
      "  y = column_or_1d(y, warn=True)\n"
     ]
    },
    {
     "name": "stdout",
     "output_type": "stream",
     "text": [
      "\n",
      "Gradient Boost - Resultados\n",
      "\n",
      "\n",
      "Relatório de Classificação\n",
      "\n",
      "              precision    recall  f1-score   support\n",
      "\n",
      "           0       0.94      0.99      0.97      8769\n",
      "           1       0.75      0.37      0.50       813\n",
      "\n",
      "    accuracy                           0.94      9582\n",
      "   macro avg       0.85      0.68      0.73      9582\n",
      "weighted avg       0.93      0.94      0.93      9582\n",
      "\n",
      "\n",
      "Matriz de Confusão\n",
      "\n"
     ]
    },
    {
     "data": {
      "image/png": "[encoded data removed]",
      "text/plain": [
       "<Figure size 800x600 with 2 Axes>"
      ]
     },
     "metadata": {},
     "output_type": "display_data"
    }
   ],
   "source": [
    "# File 5 - Gradient Boosting\n",
    "\n",
    "GB5 = GradientBoostingClassifier()\n",
    "GB5.fit(df_X_train_5, df_y_train_5)\n",
    "\n",
    "y_pred_gb5 = GB5.predict(df_X_test_5)\n",
    "\n",
    "matrix(df_y_test_5,y_pred_gb5) "
   ]
  },
  {
   "cell_type": "markdown",
   "metadata": {},
   "source": [
    "**Balanceando os Dados - Alteração de Limiar**"
   ]
  },
  {
   "cell_type": "code",
   "execution_count": 198,
   "metadata": {},
   "outputs": [],
   "source": [
    "from sklearn.metrics import precision_score, recall_score, f1_score, accuracy_score\n",
    "\n",
    "def metrics (df_y_true,y_pred):\n",
    "    precision_original =  round(precision_score(df_y_true, y_pred), 4)\n",
    "    recall_original = round(recall_score(df_y_true, y_pred), 4)\n",
    "    F1_score_original =  round(f1_score(df_y_true, y_pred), 4)\n",
    "    metrics_original = [precision_original, recall_original, F1_score_original]\n",
    "    return metrics_original\n"
   ]
  },
  {
   "cell_type": "code",
   "execution_count": 199,
   "metadata": {},
   "outputs": [
    {
     "name": "stderr",
     "output_type": "stream",
     "text": [
      "C:\\Users\\arau012\\AppData\\Local\\Packages\\PythonSoftwareFoundation.Python.3.9_qbz5n2kfra8p0\\LocalCache\\local-packages\\Python39\\site-packages\\sklearn\\ensemble\\_gb.py:424: DataConversionWarning: A column-vector y was passed when a 1d array was expected. Please change the shape of y to (n_samples, ), for example using ravel().\n",
      "  y = column_or_1d(y, warn=True)\n"
     ]
    }
   ],
   "source": [
    "# File 1 - Gradient Boosting\n",
    "\n",
    "GB1 = GradientBoostingClassifier()\n",
    "GB1.fit(df_X_train_1, df_y_train_1)\n",
    "\n",
    "y_pred_val_1 = GB1.predict(df_X_val_1)"
   ]
  },
  {
   "cell_type": "code",
   "execution_count": 234,
   "metadata": {},
   "outputs": [],
   "source": [
    "def threshold (GB,df_X_val,df_y_val,y_pred):\n",
    "    cols = ['Metrics', 'Original']\n",
    "    adj_threshold = pd.DataFrame()\n",
    "    adj_threshold['Original'] = metrics(df_y_val,y_pred)\n",
    "\n",
    "    thresholds = [ j/20 for j in range(1,16)]\n",
    "    for i in thresholds:\n",
    "\n",
    "        y_pred_new_threshold = (GB.predict_proba(df_X_val)[:,1]>=i).astype(int) #calculating the threshold with respect to class 1\n",
    "\n",
    "        precision_adj_threshold =  round(precision_score(df_y_val, y_pred_new_threshold, average='binary'), 4)\n",
    "        recall_adj_threshold = round(recall_score(df_y_val, y_pred_new_threshold, average='binary'), 4)\n",
    "        F1_score_adj_threshold =  round((f1_score(df_y_val, y_pred_new_threshold, average='binary')), 4)\n",
    "        metrics_adj_threshold = [precision_adj_threshold, recall_adj_threshold, F1_score_adj_threshold]\n",
    "        name = 'Threshold: ' + str(i) \n",
    "        adj_threshold[name] = metrics_adj_threshold\n",
    "        cols.append(name)\n",
    "\n",
    "\n",
    "    adj_threshold.index = ['Precision', 'Recall', 'F1_score']\n",
    "    adj_threshold = adj_threshold.reset_index()\n",
    "    adj_threshold.columns = cols\n",
    "    adj_threshold.transpose()\n",
    "\n",
    "    adj_threshold1 = adj_threshold.transpose().iloc[1:, :]\n",
    "    adj_threshold1.columns = adj_threshold.iloc[:,0]\n",
    "    return adj_threshold1\n",
    "    "
   ]
  },
  {
   "cell_type": "code",
   "execution_count": 236,
   "metadata": {},
   "outputs": [],
   "source": [
    "a = threshold(GB1, df_X_val_1, df_y_val_1, y_pred_val_1)"
   ]
  },
  {
   "cell_type": "code",
   "execution_count": 239,
   "metadata": {},
   "outputs": [
    {
     "data": {
      "text/html": [
       "<div>\n",
       "<style scoped>\n",
       "    .dataframe tbody tr th:only-of-type {\n",
       "        vertical-align: middle;\n",
       "    }\n",
       "\n",
       "    .dataframe tbody tr th {\n",
       "        vertical-align: top;\n",
       "    }\n",
       "\n",
       "    .dataframe thead th {\n",
       "        text-align: right;\n",
       "    }\n",
       "</style>\n",
       "<table border=\"1\" class=\"dataframe\">\n",
       "  <thead>\n",
       "    <tr style=\"text-align: right;\">\n",
       "      <th>Metrics</th>\n",
       "      <th>Precision</th>\n",
       "      <th>Recall</th>\n",
       "      <th>F1_score</th>\n",
       "    </tr>\n",
       "  </thead>\n",
       "  <tbody>\n",
       "    <tr>\n",
       "      <th>Original</th>\n",
       "      <td>0.5652</td>\n",
       "      <td>0.6933</td>\n",
       "      <td>0.6228</td>\n",
       "    </tr>\n",
       "    <tr>\n",
       "      <th>Threshold: 0.05</th>\n",
       "      <td>0.25</td>\n",
       "      <td>0.9233</td>\n",
       "      <td>0.3935</td>\n",
       "    </tr>\n",
       "    <tr>\n",
       "      <th>Threshold: 0.1</th>\n",
       "      <td>0.3693</td>\n",
       "      <td>0.8333</td>\n",
       "      <td>0.5118</td>\n",
       "    </tr>\n",
       "    <tr>\n",
       "      <th>Threshold: 0.15</th>\n",
       "      <td>0.4172</td>\n",
       "      <td>0.8067</td>\n",
       "      <td>0.55</td>\n",
       "    </tr>\n",
       "    <tr>\n",
       "      <th>Threshold: 0.2</th>\n",
       "      <td>0.45</td>\n",
       "      <td>0.78</td>\n",
       "      <td>0.5707</td>\n",
       "    </tr>\n",
       "    <tr>\n",
       "      <th>Threshold: 0.25</th>\n",
       "      <td>0.4883</td>\n",
       "      <td>0.7667</td>\n",
       "      <td>0.5966</td>\n",
       "    </tr>\n",
       "    <tr>\n",
       "      <th>Threshold: 0.3</th>\n",
       "      <td>0.5137</td>\n",
       "      <td>0.75</td>\n",
       "      <td>0.6098</td>\n",
       "    </tr>\n",
       "    <tr>\n",
       "      <th>Threshold: 0.35</th>\n",
       "      <td>0.5261</td>\n",
       "      <td>0.74</td>\n",
       "      <td>0.615</td>\n",
       "    </tr>\n",
       "    <tr>\n",
       "      <th>Threshold: 0.4</th>\n",
       "      <td>0.5345</td>\n",
       "      <td>0.7233</td>\n",
       "      <td>0.6147</td>\n",
       "    </tr>\n",
       "    <tr>\n",
       "      <th>Threshold: 0.45</th>\n",
       "      <td>0.553</td>\n",
       "      <td>0.7133</td>\n",
       "      <td>0.623</td>\n",
       "    </tr>\n",
       "    <tr>\n",
       "      <th>Threshold: 0.5</th>\n",
       "      <td>0.5652</td>\n",
       "      <td>0.6933</td>\n",
       "      <td>0.6228</td>\n",
       "    </tr>\n",
       "    <tr>\n",
       "      <th>Threshold: 0.55</th>\n",
       "      <td>0.5886</td>\n",
       "      <td>0.6867</td>\n",
       "      <td>0.6338</td>\n",
       "    </tr>\n",
       "    <tr>\n",
       "      <th>Threshold: 0.6</th>\n",
       "      <td>0.6006</td>\n",
       "      <td>0.6667</td>\n",
       "      <td>0.6319</td>\n",
       "    </tr>\n",
       "    <tr>\n",
       "      <th>Threshold: 0.65</th>\n",
       "      <td>0.6291</td>\n",
       "      <td>0.6333</td>\n",
       "      <td>0.6312</td>\n",
       "    </tr>\n",
       "    <tr>\n",
       "      <th>Threshold: 0.7</th>\n",
       "      <td>0.6866</td>\n",
       "      <td>0.6133</td>\n",
       "      <td>0.6479</td>\n",
       "    </tr>\n",
       "    <tr>\n",
       "      <th>Threshold: 0.75</th>\n",
       "      <td>0.7017</td>\n",
       "      <td>0.5567</td>\n",
       "      <td>0.6208</td>\n",
       "    </tr>\n",
       "  </tbody>\n",
       "</table>\n",
       "</div>"
      ],
      "text/plain": [
       "Metrics         Precision  Recall F1_score\n",
       "Original           0.5652  0.6933   0.6228\n",
       "Threshold: 0.05      0.25  0.9233   0.3935\n",
       "Threshold: 0.1     0.3693  0.8333   0.5118\n",
       "Threshold: 0.15    0.4172  0.8067     0.55\n",
       "Threshold: 0.2       0.45    0.78   0.5707\n",
       "Threshold: 0.25    0.4883  0.7667   0.5966\n",
       "Threshold: 0.3     0.5137    0.75   0.6098\n",
       "Threshold: 0.35    0.5261    0.74    0.615\n",
       "Threshold: 0.4     0.5345  0.7233   0.6147\n",
       "Threshold: 0.45     0.553  0.7133    0.623\n",
       "Threshold: 0.5     0.5652  0.6933   0.6228\n",
       "Threshold: 0.55    0.5886  0.6867   0.6338\n",
       "Threshold: 0.6     0.6006  0.6667   0.6319\n",
       "Threshold: 0.65    0.6291  0.6333   0.6312\n",
       "Threshold: 0.7     0.6866  0.6133   0.6479\n",
       "Threshold: 0.75    0.7017  0.5567   0.6208"
      ]
     },
     "execution_count": 239,
     "metadata": {},
     "output_type": "execute_result"
    }
   ],
   "source": [
    "a"
   ]
  },
  {
   "cell_type": "code",
   "execution_count": 238,
   "metadata": {},
   "outputs": [
    {
     "data": {
      "text/plain": [
       "0.7017"
      ]
     },
     "execution_count": 238,
     "metadata": {},
     "output_type": "execute_result"
    }
   ],
   "source": [
    "a['Precision'].max()"
   ]
  },
  {
   "cell_type": "code",
   "execution_count": null,
   "metadata": {},
   "outputs": [],
   "source": []
  },
  {
   "cell_type": "code",
   "execution_count": null,
   "metadata": {},
   "outputs": [],
   "source": []
  },
  {
   "cell_type": "code",
   "execution_count": null,
   "metadata": {},
   "outputs": [],
   "source": []
  },
  {
   "cell_type": "code",
   "execution_count": null,
   "metadata": {},
   "outputs": [],
   "source": []
  },
  {
   "cell_type": "code",
   "execution_count": null,
   "metadata": {},
   "outputs": [],
   "source": []
  },
  {
   "cell_type": "code",
   "execution_count": null,
   "metadata": {},
   "outputs": [],
   "source": []
  },
  {
   "cell_type": "markdown",
   "metadata": {},
   "source": [
    "**Balanceando os Dados - Oversampling**"
   ]
  },
  {
   "cell_type": "code",
   "execution_count": 202,
   "metadata": {},
   "outputs": [],
   "source": [
    "from sklearn.utils import resample\n",
    "\n",
    "def oversampling(df_X_train, df_y_train):\n",
    "    train_data = df_X_train\n",
    "    train_data['Response'] = df_y_train\n",
    "\n",
    "    Response_Zero = train_data[train_data.Response==0]\n",
    "    Response_One = train_data[train_data.Response==1]\n",
    "\n",
    "    upsampled_One = resample(Response_One,\n",
    "                            replace = True, # sample with replacement\n",
    "                            n_samples = len(Response_Zero), # match number in majority class\n",
    "                            random_state = 27) # reproducible results\n",
    "    \n",
    "    # Combinando maioria e a minoria unsampled\n",
    "    upsampled = pd.concat([Response_Zero, upsampled_One])\n",
    "    return upsampled"
   ]
  },
  {
   "cell_type": "markdown",
   "metadata": {},
   "source": [
    "*File 1*"
   ]
  },
  {
   "cell_type": "code",
   "execution_count": 203,
   "metadata": {},
   "outputs": [],
   "source": [
    "# File 1 - Oversampling\n",
    "\n",
    "upsampled_1 = oversampling(df_X_train_1, df_y_train_1)"
   ]
  },
  {
   "cell_type": "code",
   "execution_count": 204,
   "metadata": {},
   "outputs": [
    {
     "data": {
      "text/plain": [
       "0    9286\n",
       "1     892\n",
       "Name: count, dtype: int64"
      ]
     },
     "execution_count": 204,
     "metadata": {},
     "output_type": "execute_result"
    }
   ],
   "source": [
    "# File 1 - Dados antes do oversampling\n",
    "df_y_train_1.value_counts()"
   ]
  },
  {
   "cell_type": "code",
   "execution_count": 205,
   "metadata": {},
   "outputs": [
    {
     "data": {
      "text/plain": [
       "Response\n",
       "0    9286\n",
       "1    9286\n",
       "Name: count, dtype: int64"
      ]
     },
     "execution_count": 205,
     "metadata": {},
     "output_type": "execute_result"
    }
   ],
   "source": [
    "# File 1 - Dados depois do oversampling\n",
    "upsampled_1['Response'].value_counts()"
   ]
  },
  {
   "cell_type": "code",
   "execution_count": 206,
   "metadata": {},
   "outputs": [],
   "source": [
    "# Treinando o modelo\n",
    "X_train_upsampled_1 = upsampled_1.drop(columns = ['Response'])\n",
    "y_train_upsampled_1 = upsampled_1['Response']\n",
    "\n",
    "GB1_upsampled = GradientBoostingClassifier()\n",
    "GB1_upsampled.fit(X_train_upsampled_1,y_train_upsampled_1)\n",
    "\n",
    "pred_upsampled_1 = GB1_upsampled.predict(df_X_test_1)"
   ]
  },
  {
   "cell_type": "code",
   "execution_count": 207,
   "metadata": {},
   "outputs": [
    {
     "name": "stdout",
     "output_type": "stream",
     "text": [
      "\n",
      "Gradient Boost - Resultados\n",
      "\n",
      "\n",
      "Relatório de Classificação\n",
      "\n",
      "              precision    recall  f1-score   support\n",
      "\n",
      "           0       0.96      0.82      0.88       673\n",
      "           1       0.36      0.73      0.48        92\n",
      "\n",
      "    accuracy                           0.81       765\n",
      "   macro avg       0.66      0.77      0.68       765\n",
      "weighted avg       0.88      0.81      0.84       765\n",
      "\n",
      "\n",
      "Matriz de Confusão\n",
      "\n"
     ]
    },
    {
     "data": {
      "image/png": "[encoded data removed]",
      "text/plain": [
       "<Figure size 800x600 with 2 Axes>"
      ]
     },
     "metadata": {},
     "output_type": "display_data"
    }
   ],
   "source": [
    "# File 1 - Resultados\n",
    "\n",
    "matrix(df_y_test_1, pred_upsampled_1)"
   ]
  },
  {
   "cell_type": "markdown",
   "metadata": {},
   "source": [
    "*File 2*"
   ]
  },
  {
   "cell_type": "code",
   "execution_count": 208,
   "metadata": {},
   "outputs": [],
   "source": [
    "# Oversampling\n",
    "\n",
    "upsampled_2 = oversampling(df_X_train_2, df_y_train_2)"
   ]
  },
  {
   "cell_type": "code",
   "execution_count": 209,
   "metadata": {},
   "outputs": [
    {
     "data": {
      "text/plain": [
       "0    8786\n",
       "1     763\n",
       "Name: count, dtype: int64"
      ]
     },
     "execution_count": 209,
     "metadata": {},
     "output_type": "execute_result"
    }
   ],
   "source": [
    "# Dados antes do oversampling\n",
    "df_y_train_2.value_counts()"
   ]
  },
  {
   "cell_type": "code",
   "execution_count": 210,
   "metadata": {},
   "outputs": [
    {
     "data": {
      "text/plain": [
       "Response\n",
       "0    8786\n",
       "1    8786\n",
       "Name: count, dtype: int64"
      ]
     },
     "execution_count": 210,
     "metadata": {},
     "output_type": "execute_result"
    }
   ],
   "source": [
    "# Dados depois do oversampling\n",
    "upsampled_2['Response'].value_counts()"
   ]
  },
  {
   "cell_type": "code",
   "execution_count": 211,
   "metadata": {},
   "outputs": [],
   "source": [
    "# Treinando o modelo\n",
    "X_train_upsampled_2 = upsampled_2.drop(columns = ['Response'])\n",
    "y_train_upsampled_2 = upsampled_2['Response']\n",
    "\n",
    "GB2_upsampled = GradientBoostingClassifier()\n",
    "GB2_upsampled.fit(X_train_upsampled_2,y_train_upsampled_2)\n",
    "\n",
    "pred_upsampled_2 = GB2_upsampled.predict(df_X_test_2)"
   ]
  },
  {
   "cell_type": "code",
   "execution_count": 212,
   "metadata": {},
   "outputs": [
    {
     "name": "stdout",
     "output_type": "stream",
     "text": [
      "\n",
      "Gradient Boost - Resultados\n",
      "\n",
      "\n",
      "Relatório de Classificação\n",
      "\n",
      "              precision    recall  f1-score   support\n",
      "\n",
      "           0       0.98      0.58      0.73      9147\n",
      "           1       0.18      0.88      0.29       933\n",
      "\n",
      "    accuracy                           0.61     10080\n",
      "   macro avg       0.58      0.73      0.51     10080\n",
      "weighted avg       0.91      0.61      0.69     10080\n",
      "\n",
      "\n",
      "Matriz de Confusão\n",
      "\n"
     ]
    },
    {
     "data": {
      "image/png": "[encoded data removed]",
      "text/plain": [
       "<Figure size 800x600 with 2 Axes>"
      ]
     },
     "metadata": {},
     "output_type": "display_data"
    }
   ],
   "source": [
    "# Resultados\n",
    "\n",
    "matrix(df_y_test_2, pred_upsampled_2)"
   ]
  },
  {
   "cell_type": "markdown",
   "metadata": {},
   "source": [
    "*File 3*"
   ]
  },
  {
   "cell_type": "code",
   "execution_count": 213,
   "metadata": {},
   "outputs": [],
   "source": [
    "# Oversampling\n",
    "\n",
    "upsampled_3 = oversampling(df_X_train_3, df_y_train_3)"
   ]
  },
  {
   "cell_type": "code",
   "execution_count": 214,
   "metadata": {},
   "outputs": [
    {
     "data": {
      "text/plain": [
       "0    8910\n",
       "1     772\n",
       "Name: count, dtype: int64"
      ]
     },
     "execution_count": 214,
     "metadata": {},
     "output_type": "execute_result"
    }
   ],
   "source": [
    "# Dados antes do oversampling\n",
    "df_y_train_3.value_counts()"
   ]
  },
  {
   "cell_type": "code",
   "execution_count": 215,
   "metadata": {},
   "outputs": [
    {
     "data": {
      "text/plain": [
       "Response\n",
       "0    8910\n",
       "1    8910\n",
       "Name: count, dtype: int64"
      ]
     },
     "execution_count": 215,
     "metadata": {},
     "output_type": "execute_result"
    }
   ],
   "source": [
    "# Dados depois do oversampling\n",
    "upsampled_3['Response'].value_counts()"
   ]
  },
  {
   "cell_type": "code",
   "execution_count": 216,
   "metadata": {},
   "outputs": [],
   "source": [
    "# Treinando o modelo\n",
    "X_train_upsampled_3 = upsampled_3.drop(columns = ['Response'])\n",
    "y_train_upsampled_3 = upsampled_3['Response']\n",
    "\n",
    "GB3_upsampled = GradientBoostingClassifier()\n",
    "GB3_upsampled.fit(X_train_upsampled_3,y_train_upsampled_3)\n",
    "\n",
    "pred_upsampled_3 = GB3_upsampled.predict(df_X_test_3)"
   ]
  },
  {
   "cell_type": "code",
   "execution_count": 217,
   "metadata": {},
   "outputs": [
    {
     "name": "stdout",
     "output_type": "stream",
     "text": [
      "\n",
      "Gradient Boost - Resultados\n",
      "\n",
      "\n",
      "Relatório de Classificação\n",
      "\n",
      "              precision    recall  f1-score   support\n",
      "\n",
      "           0       0.97      0.87      0.92      9200\n",
      "           1       0.39      0.76      0.52      1002\n",
      "\n",
      "    accuracy                           0.86     10202\n",
      "   macro avg       0.68      0.82      0.72     10202\n",
      "weighted avg       0.91      0.86      0.88     10202\n",
      "\n",
      "\n",
      "Matriz de Confusão\n",
      "\n"
     ]
    },
    {
     "data": {
      "image/png": "[encoded data removed]",
      "text/plain": [
       "<Figure size 800x600 with 2 Axes>"
      ]
     },
     "metadata": {},
     "output_type": "display_data"
    }
   ],
   "source": [
    "# Resultados\n",
    "\n",
    "matrix(df_y_test_3, pred_upsampled_3)"
   ]
  },
  {
   "cell_type": "markdown",
   "metadata": {},
   "source": [
    "*File 4*"
   ]
  },
  {
   "cell_type": "code",
   "execution_count": 218,
   "metadata": {},
   "outputs": [],
   "source": [
    "# Oversampling\n",
    "\n",
    "upsampled_4 = oversampling(df_X_train_4, df_y_train_4)"
   ]
  },
  {
   "cell_type": "code",
   "execution_count": 219,
   "metadata": {},
   "outputs": [
    {
     "data": {
      "text/plain": [
       "0    9236\n",
       "1     983\n",
       "Name: count, dtype: int64"
      ]
     },
     "execution_count": 219,
     "metadata": {},
     "output_type": "execute_result"
    }
   ],
   "source": [
    "# Dados antes do oversampling\n",
    "df_y_train_4.value_counts()"
   ]
  },
  {
   "cell_type": "code",
   "execution_count": 220,
   "metadata": {},
   "outputs": [
    {
     "data": {
      "text/plain": [
       "Response\n",
       "0    9236\n",
       "1    9236\n",
       "Name: count, dtype: int64"
      ]
     },
     "execution_count": 220,
     "metadata": {},
     "output_type": "execute_result"
    }
   ],
   "source": [
    "# Dados depois do oversampling\n",
    "upsampled_4['Response'].value_counts()"
   ]
  },
  {
   "cell_type": "code",
   "execution_count": 221,
   "metadata": {},
   "outputs": [],
   "source": [
    "# Treinando o modelo\n",
    "X_train_upsampled_4 = upsampled_4.drop(columns = ['Response'])\n",
    "y_train_upsampled_4 = upsampled_4['Response']\n",
    "\n",
    "GB4_upsampled = GradientBoostingClassifier()\n",
    "GB4_upsampled.fit(X_train_upsampled_4,y_train_upsampled_4)\n",
    "\n",
    "pred_upsampled_4 = GB4_upsampled.predict(df_X_test_4)"
   ]
  },
  {
   "cell_type": "code",
   "execution_count": 222,
   "metadata": {},
   "outputs": [
    {
     "name": "stdout",
     "output_type": "stream",
     "text": [
      "\n",
      "Gradient Boost - Resultados\n",
      "\n",
      "\n",
      "Relatório de Classificação\n",
      "\n",
      "              precision    recall  f1-score   support\n",
      "\n",
      "           0       0.96      0.86      0.91      9017\n",
      "           1       0.39      0.74      0.51      1112\n",
      "\n",
      "    accuracy                           0.85     10129\n",
      "   macro avg       0.68      0.80      0.71     10129\n",
      "weighted avg       0.90      0.85      0.86     10129\n",
      "\n",
      "\n",
      "Matriz de Confusão\n",
      "\n"
     ]
    },
    {
     "data": {
      "image/png": "[encoded data removed]",
      "text/plain": [
       "<Figure size 800x600 with 2 Axes>"
      ]
     },
     "metadata": {},
     "output_type": "display_data"
    }
   ],
   "source": [
    "# Resultados\n",
    "\n",
    "matrix(df_y_test_4, pred_upsampled_4)"
   ]
  },
  {
   "cell_type": "markdown",
   "metadata": {},
   "source": [
    "*File 5*"
   ]
  },
  {
   "cell_type": "code",
   "execution_count": 223,
   "metadata": {},
   "outputs": [],
   "source": [
    "# Oversampling\n",
    "\n",
    "upsampled_5 = oversampling(df_X_train_5, df_y_train_5)"
   ]
  },
  {
   "cell_type": "code",
   "execution_count": 224,
   "metadata": {},
   "outputs": [
    {
     "data": {
      "text/plain": [
       "0    9258\n",
       "1     754\n",
       "Name: count, dtype: int64"
      ]
     },
     "execution_count": 224,
     "metadata": {},
     "output_type": "execute_result"
    }
   ],
   "source": [
    "# Dados antes do oversampling\n",
    "df_y_train_5.value_counts()"
   ]
  },
  {
   "cell_type": "code",
   "execution_count": 225,
   "metadata": {},
   "outputs": [
    {
     "data": {
      "text/plain": [
       "Response\n",
       "0    9258\n",
       "1    9258\n",
       "Name: count, dtype: int64"
      ]
     },
     "execution_count": 225,
     "metadata": {},
     "output_type": "execute_result"
    }
   ],
   "source": [
    "# Dados depois do oversampling\n",
    "upsampled_5['Response'].value_counts()"
   ]
  },
  {
   "cell_type": "code",
   "execution_count": 226,
   "metadata": {},
   "outputs": [],
   "source": [
    "# Treinando o modelo\n",
    "X_train_upsampled_5 = upsampled_5.drop(columns = ['Response'])\n",
    "y_train_upsampled_5 = upsampled_5['Response']\n",
    "\n",
    "GB5_upsampled = GradientBoostingClassifier()\n",
    "GB5_upsampled.fit(X_train_upsampled_5,y_train_upsampled_5)\n",
    "\n",
    "pred_upsampled_5 = GB5_upsampled.predict(df_X_test_5)"
   ]
  },
  {
   "cell_type": "code",
   "execution_count": 227,
   "metadata": {},
   "outputs": [
    {
     "name": "stdout",
     "output_type": "stream",
     "text": [
      "\n",
      "Gradient Boost - Resultados\n",
      "\n",
      "\n",
      "Relatório de Classificação\n",
      "\n",
      "              precision    recall  f1-score   support\n",
      "\n",
      "           0       0.97      0.94      0.95      8769\n",
      "           1       0.51      0.65      0.57       813\n",
      "\n",
      "    accuracy                           0.92      9582\n",
      "   macro avg       0.74      0.80      0.76      9582\n",
      "weighted avg       0.93      0.92      0.92      9582\n",
      "\n",
      "\n",
      "Matriz de Confusão\n",
      "\n"
     ]
    },
    {
     "data": {
      "image/png": "[encoded data removed]",
      "text/plain": [
       "<Figure size 800x600 with 2 Axes>"
      ]
     },
     "metadata": {},
     "output_type": "display_data"
    }
   ],
   "source": [
    "# Resultados\n",
    "\n",
    "matrix(df_y_test_5, pred_upsampled_5)"
   ]
  },
  {
   "cell_type": "markdown",
   "metadata": {},
   "source": [
    "**Balanceando os Dados - Undersampling**"
   ]
  },
  {
   "cell_type": "code",
   "execution_count": 228,
   "metadata": {},
   "outputs": [],
   "source": [
    "from sklearn.utils import resample\n",
    "\n",
    "# Undersampling\n",
    "\n",
    "def undersampling(df_X_train, df_y_train):\n",
    "    train_data = df_X_train\n",
    "    train_data['Response'] = df_y_train\n",
    "\n",
    "    Response_Zero = train_data[train_data.Response==0]\n",
    "    Response_One = train_data[train_data.Response==1]\n",
    "\n",
    "    downsampled_Zero = resample(Response_Zero,\n",
    "                                    replace = False, # sample without replacement\n",
    "                                    n_samples = len(Response_One), # match minority n\n",
    "                                    random_state = 27) # reproducible results\n",
    "\n",
    "    #combine minority and downsampled majority\n",
    "    downsampled = pd.concat([downsampled_Zero, Response_One])\n",
    "    return downsampled"
   ]
  },
  {
   "cell_type": "code",
   "execution_count": 229,
   "metadata": {},
   "outputs": [],
   "source": [
    "# Downsampling\n",
    "\n",
    "downsampled_1 = undersampling(df_X_train_1, df_y_train_1)"
   ]
  },
  {
   "cell_type": "code",
   "execution_count": 230,
   "metadata": {},
   "outputs": [
    {
     "data": {
      "text/plain": [
       "0    9286\n",
       "1     892\n",
       "Name: count, dtype: int64"
      ]
     },
     "execution_count": 230,
     "metadata": {},
     "output_type": "execute_result"
    }
   ],
   "source": [
    "# Dados antes do undersampling\n",
    "df_y_train_1.value_counts()"
   ]
  },
  {
   "cell_type": "code",
   "execution_count": 231,
   "metadata": {},
   "outputs": [
    {
     "data": {
      "text/plain": [
       "Response\n",
       "0    892\n",
       "1    892\n",
       "Name: count, dtype: int64"
      ]
     },
     "execution_count": 231,
     "metadata": {},
     "output_type": "execute_result"
    }
   ],
   "source": [
    "# Dados depois do undersampling\n",
    "downsampled_1['Response'].value_counts()"
   ]
  },
  {
   "cell_type": "code",
   "execution_count": 232,
   "metadata": {},
   "outputs": [],
   "source": [
    "# Treinando o modelo\n",
    "X_train_upsampled_1 = upsampled_1.drop(columns = ['Response'])\n",
    "y_train_upsampled_1 = upsampled_1['Response']\n",
    "\n",
    "GB1_downsampled = GradientBoostingClassifier()\n",
    "GB1_downsampled.fit(X_train_upsampled_1,y_train_upsampled_1)\n",
    "\n",
    "pred_downsampled_1 = GB1_downsampled.predict(df_X_test_1)"
   ]
  },
  {
   "cell_type": "code",
   "execution_count": 233,
   "metadata": {},
   "outputs": [
    {
     "name": "stdout",
     "output_type": "stream",
     "text": [
      "\n",
      "Gradient Boost - Resultados\n",
      "\n",
      "\n",
      "Relatório de Classificação\n",
      "\n",
      "              precision    recall  f1-score   support\n",
      "\n",
      "           0       0.96      0.82      0.88       673\n",
      "           1       0.36      0.73      0.48        92\n",
      "\n",
      "    accuracy                           0.81       765\n",
      "   macro avg       0.66      0.77      0.68       765\n",
      "weighted avg       0.88      0.81      0.84       765\n",
      "\n",
      "\n",
      "Matriz de Confusão\n",
      "\n"
     ]
    },
    {
     "data": {
      "image/png": "[encoded data removed]",
      "text/plain": [
       "<Figure size 800x600 with 2 Axes>"
      ]
     },
     "metadata": {},
     "output_type": "display_data"
    }
   ],
   "source": [
    "# Resultados\n",
    "\n",
    "matrix(df_y_test_1, pred_upsampled_1)"
   ]
  },
  {
   "cell_type": "markdown",
   "metadata": {},
   "source": [
    "**Comparando Resultados**"
   ]
  },
  {
   "cell_type": "code",
   "execution_count": null,
   "metadata": {},
   "outputs": [],
   "source": []
  },
  {
   "cell_type": "code",
   "execution_count": null,
   "metadata": {},
   "outputs": [],
   "source": []
  },
  {
   "cell_type": "code",
   "execution_count": null,
   "metadata": {},
   "outputs": [],
   "source": []
  },
  {
   "cell_type": "code",
   "execution_count": null,
   "metadata": {},
   "outputs": [],
   "source": []
  },
  {
   "cell_type": "code",
   "execution_count": null,
   "metadata": {},
   "outputs": [],
   "source": []
  },
  {
   "cell_type": "code",
   "execution_count": null,
   "metadata": {},
   "outputs": [],
   "source": []
  },
  {
   "cell_type": "code",
   "execution_count": null,
   "metadata": {},
   "outputs": [],
   "source": []
  }
 ],
 "metadata": {
  "kernelspec": {
   "display_name": "Python 3",
   "language": "python",
   "name": "python3"
  },
  "language_info": {
   "codemirror_mode": {
    "name": "ipython",
    "version": 3
   },
   "file_extension": ".py",
   "mimetype": "text/x-python",
   "name": "python",
   "nbconvert_exporter": "python",
   "pygments_lexer": "ipython3",
   "version": "3.9.13"
  }
 },
 "nbformat": 4,
 "nbformat_minor": 2
}
